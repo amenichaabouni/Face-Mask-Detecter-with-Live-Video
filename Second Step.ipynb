{
 "cells": [
  {
   "cell_type": "markdown",
   "metadata": {},
   "source": [
    "# Convolutional Neural Network Architecture"
   ]
  },
  {
   "cell_type": "code",
   "execution_count": 31,
   "metadata": {},
   "outputs": [],
   "source": [
    "import numpy as np\n",
    "\n",
    "data=np.load('data.npy')\n",
    "target=np.load('target.npy')\n",
    "\n",
    "#loading the save numpy arrays in the previous code"
   ]
  },
  {
   "cell_type": "code",
   "execution_count": 32,
   "metadata": {},
   "outputs": [],
   "source": [
    "from tensorflow.keras.models import Sequential\n",
    "from tensorflow.keras.layers import Dense,Activation,Flatten,Dropout\n",
    "from tensorflow.keras.layers import Conv2D,MaxPooling2D\n",
    "from tensorflow.keras.callbacks import ModelCheckpoint"
   ]
  },
  {
   "cell_type": "code",
   "execution_count": 33,
   "metadata": {},
   "outputs": [],
   "source": [
    "model=Sequential()"
   ]
  },
  {
   "cell_type": "code",
   "execution_count": 34,
   "metadata": {},
   "outputs": [],
   "source": [
    "model.add(Conv2D(200,(3,3),input_shape=data.shape[1:]))\n",
    "\n",
    "\n",
    "#The first CNN layer followed by Relu and MaxPooling layers\n"
   ]
  },
  {
   "cell_type": "code",
   "execution_count": 35,
   "metadata": {},
   "outputs": [],
   "source": [
    "model.add(Activation('relu'))"
   ]
  },
  {
   "cell_type": "code",
   "execution_count": 36,
   "metadata": {},
   "outputs": [],
   "source": [
    "model.add(MaxPooling2D(pool_size=(2,2)))"
   ]
  },
  {
   "cell_type": "code",
   "execution_count": 37,
   "metadata": {},
   "outputs": [],
   "source": [
    "model.add(Conv2D(100,(3,3)))\n",
    "model.add(Activation('relu'))\n",
    "model.add(MaxPooling2D(pool_size=(2,2)))"
   ]
  },
  {
   "cell_type": "code",
   "execution_count": 38,
   "metadata": {},
   "outputs": [],
   "source": [
    "model.add(Flatten())\n",
    "model.add(Dropout(0.5))"
   ]
  },
  {
   "cell_type": "code",
   "execution_count": 39,
   "metadata": {},
   "outputs": [],
   "source": [
    "model.add(Dense(50,activation='relu')) #here 50 neurons in hidden layer \n",
    "model.add(Dense(2,activation='softmax'))"
   ]
  },
  {
   "cell_type": "code",
   "execution_count": 40,
   "metadata": {},
   "outputs": [],
   "source": [
    "model.compile(loss='categorical_crossentropy',optimizer='adam',metrics=['accuracy'])"
   ]
  },
  {
   "cell_type": "code",
   "execution_count": 44,
   "metadata": {},
   "outputs": [],
   "source": [
    "from sklearn.model_selection import train_test_split\n",
    "\n",
    "train_data,test_data,train_target,test_target=train_test_split(data,target,test_size=0.1)\n",
    "checkpoint = ModelCheckpoint('model-{epoch:03d}.model',monitor='val_loss',verbose=0,save_best_only=True,mode='auto')"
   ]
  },
  {
   "cell_type": "code",
   "execution_count": 45,
   "metadata": {},
   "outputs": [
    {
     "name": "stdout",
     "output_type": "stream",
     "text": [
      "Epoch 1/20\n",
      "31/31 [==============================] - ETA: 0s - loss: 0.1155 - accuracy: 0.9646INFO:tensorflow:Assets written to: model-001.model\\assets\n",
      "31/31 [==============================] - 54s 2s/step - loss: 0.1155 - accuracy: 0.9646 - val_loss: 0.0567 - val_accuracy: 0.9839\n",
      "Epoch 2/20\n",
      "31/31 [==============================] - 45s 1s/step - loss: 0.1049 - accuracy: 0.9545 - val_loss: 0.0907 - val_accuracy: 0.9677\n",
      "Epoch 3/20\n",
      "31/31 [==============================] - 47s 2s/step - loss: 0.0734 - accuracy: 0.9747 - val_loss: 0.0693 - val_accuracy: 0.9798\n",
      "Epoch 4/20\n",
      "31/31 [==============================] - 47s 2s/step - loss: 0.0329 - accuracy: 0.9879 - val_loss: 0.0733 - val_accuracy: 0.9758\n",
      "Epoch 5/20\n",
      "31/31 [==============================] - 47s 2s/step - loss: 0.0405 - accuracy: 0.9859 - val_loss: 0.0887 - val_accuracy: 0.9758\n",
      "Epoch 6/20\n",
      "31/31 [==============================] - 49s 2s/step - loss: 0.0375 - accuracy: 0.9859 - val_loss: 0.0677 - val_accuracy: 0.9677\n",
      "Epoch 7/20\n",
      "31/31 [==============================] - 48s 2s/step - loss: 0.0286 - accuracy: 0.9919 - val_loss: 0.0806 - val_accuracy: 0.9677\n",
      "Epoch 8/20\n",
      "31/31 [==============================] - 48s 2s/step - loss: 0.0217 - accuracy: 0.9929 - val_loss: 0.0922 - val_accuracy: 0.9718\n",
      "Epoch 9/20\n",
      "31/31 [==============================] - 48s 2s/step - loss: 0.0324 - accuracy: 0.9899 - val_loss: 0.0878 - val_accuracy: 0.9758\n",
      "Epoch 10/20\n",
      "31/31 [==============================] - 50s 2s/step - loss: 0.0265 - accuracy: 0.9909 - val_loss: 0.0934 - val_accuracy: 0.9718\n",
      "Epoch 11/20\n",
      "31/31 [==============================] - 49s 2s/step - loss: 0.0317 - accuracy: 0.9889 - val_loss: 0.0808 - val_accuracy: 0.9718\n",
      "Epoch 12/20\n",
      "31/31 [==============================] - 45s 1s/step - loss: 0.0392 - accuracy: 0.9869 - val_loss: 0.1143 - val_accuracy: 0.9677\n",
      "Epoch 13/20\n",
      "31/31 [==============================] - 46s 1s/step - loss: 0.0355 - accuracy: 0.9869 - val_loss: 0.0914 - val_accuracy: 0.9677\n",
      "Epoch 14/20\n",
      "31/31 [==============================] - 45s 1s/step - loss: 0.0406 - accuracy: 0.9889 - val_loss: 0.0836 - val_accuracy: 0.9677\n",
      "Epoch 15/20\n",
      "31/31 [==============================] - 45s 1s/step - loss: 0.0352 - accuracy: 0.9869 - val_loss: 0.0888 - val_accuracy: 0.9677\n",
      "Epoch 16/20\n",
      "31/31 [==============================] - 45s 1s/step - loss: 0.0181 - accuracy: 0.9949 - val_loss: 0.0823 - val_accuracy: 0.9677\n",
      "Epoch 17/20\n",
      "31/31 [==============================] - 45s 1s/step - loss: 0.0127 - accuracy: 0.9970 - val_loss: 0.0950 - val_accuracy: 0.9677\n",
      "Epoch 18/20\n",
      "31/31 [==============================] - 46s 1s/step - loss: 0.0165 - accuracy: 0.9929 - val_loss: 0.1151 - val_accuracy: 0.9637\n",
      "Epoch 19/20\n",
      "31/31 [==============================] - 45s 1s/step - loss: 0.0122 - accuracy: 0.9949 - val_loss: 0.1215 - val_accuracy: 0.9718\n",
      "Epoch 20/20\n",
      "31/31 [==============================] - 45s 1s/step - loss: 0.0182 - accuracy: 0.9960 - val_loss: 0.1705 - val_accuracy: 0.9516\n"
     ]
    }
   ],
   "source": [
    "\n",
    "history=model.fit(train_data,train_target,epochs=20,callbacks=[checkpoint],validation_split=0.2)"
   ]
  },
  {
   "cell_type": "code",
   "execution_count": 46,
   "metadata": {},
   "outputs": [
    {
     "data": {
      "image/png": "[encoded data removed]",
      "text/plain": [
       "<Figure size 432x288 with 1 Axes>"
      ]
     },
     "metadata": {
      "needs_background": "light"
     },
     "output_type": "display_data"
    }
   ],
   "source": [
    "from matplotlib import pyplot as plt\n",
    "\n",
    "plt.plot(history.history['loss'],'r',label='training loss')\n",
    "plt.plot(history.history['val_loss'],label='validation loss')\n",
    "plt.xlabel('# epochs')\n",
    "plt.ylabel('loss')\n",
    "plt.legend()\n",
    "plt.show()"
   ]
  },
  {
   "cell_type": "code",
   "execution_count": 47,
   "metadata": {},
   "outputs": [
    {
     "data": {
      "image/png": "[encoded data removed]",
      "text/plain": [
       "<Figure size 432x288 with 1 Axes>"
      ]
     },
     "metadata": {
      "needs_background": "light"
     },
     "output_type": "display_data"
    }
   ],
   "source": [
    "plt.plot(history.history['accuracy'],'r',label='training accuracy')\n",
    "plt.plot(history.history['val_accuracy'],label='validation accuracy')\n",
    "plt.xlabel('# epochs')\n",
    "plt.ylabel('loss')\n",
    "plt.legend()\n",
    "plt.show()"
   ]
  },
  {
   "cell_type": "code",
   "execution_count": 48,
   "metadata": {
    "scrolled": true
   },
   "outputs": [
    {
     "name": "stdout",
     "output_type": "stream",
     "text": [
      "5/5 [==============================] - 1s 247ms/step - loss: 0.0391 - accuracy: 0.9855\n",
      "[0.039140086621046066, 0.9855072498321533]\n"
     ]
    }
   ],
   "source": [
    "print(model.evaluate(test_data,test_target))"
   ]
  },
  {
   "cell_type": "code",
   "execution_count": null,
   "metadata": {},
   "outputs": [],
   "source": []
  }
 ],
 "metadata": {
  "kernelspec": {
   "display_name": "Python 3",
   "language": "python",
   "name": "python3"
  },
  "language_info": {
   "codemirror_mode": {
    "name": "ipython",
    "version": 3
   },
   "file_extension": ".py",
   "mimetype": "text/x-python",
   "name": "python",
   "nbconvert_exporter": "python",
   "pygments_lexer": "ipython3",
   "version": "3.7.9"
  }
 },
 "nbformat": 4,
 "nbformat_minor": 4
}
